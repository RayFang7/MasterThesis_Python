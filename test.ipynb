{
 "cells": [
  {
   "cell_type": "code",
   "execution_count": 1,
   "metadata": {},
   "outputs": [],
   "source": [
    "import logging\n",
    "import os\n",
    "import time\n",
    "\n",
    "import matplotlib.pyplot as plt\n",
    "from matplotlib.ticker import MultipleLocator\n",
    "import torch\n",
    "import torch.nn as nn\n",
    "import torchvision\n",
    "\n",
    "import numpy as np\n",
    "import nets\n",
    "import train\n",
    "from arg import *\n",
    "from lib import *\n",
    "from main import *\n",
    "from nni.utils import merge_parameter\n",
    "from sklearn import metrics\n",
    "from sklearn.metrics import classification_report"
   ]
  },
  {
   "cell_type": "code",
   "execution_count": 2,
   "metadata": {},
   "outputs": [],
   "source": [
    "def output_calc(output,label,alpha = 0.0,disp = False):\n",
    "    outputn = output[:,1]-output[:,0]\n",
    "    #outputn = -outputn #inverse\n",
    "    outputn = outputn/max([max(outputn),-min(outputn)])\n",
    "    outputn = outputn/2+0.5\n",
    "    pred = torch.round(outputn-alpha)\n",
    "    acc = torch.sum(pred == label.data).item()/len(label)\n",
    "    confusion_marix = metrics.confusion_matrix(label.cpu(),pred.cpu(),labels = [0,1])\n",
    "    confusion_marix = confusion_marix.transpose()\n",
    "    #swap the pred and label for a trapsposed confusion matrix\n",
    "#     confusion_marix = metrics.confusion_matrix(label.cpu(),pred.cpu(),labels = [0,1])\n",
    "    if disp:\n",
    "        print(acc)\n",
    "        print(confusion_marix)\n",
    "    #TP TN\n",
    "    #PP PN\n",
    "    return outputn,confusion_marix,acc\n",
    "\n",
    "def draw_auc(label,score,fig = 0,name = \"roc_auc\"):\n",
    "    plt.figure(fig)\n",
    "    score = -score+1\n",
    "    fpr, tpr, thresholds = metrics.roc_curve(label.cpu(), score.cpu(), pos_label=0)\n",
    "    roc_auc= metrics.auc(fpr, tpr)\n",
    "    print(\"roc_auc:{}\".format(roc_auc))\n",
    "    plt.plot(fpr,tpr,label='{}:{:4f}'.format(name,roc_auc),linewidth=1)\n",
    "    plt.legend(loc=\"lower right\")\n",
    "    return fpr,tpr\n",
    "#     for tpr_threshold in [0.8,0.9,0.99,0.9956,tpr[thresholds == thresholds[thresholds>0.5][-1]][0]]: #first threshoulds which >0.5\n",
    "#         plt.plot(fpr[tpr>tpr_threshold][1],tpr_threshold,'o')\n",
    "#         text = \"fold {} TPR:{},FPR:{:.4f},Thresholds:{:.4f}\".format(1,tpr_threshold,fpr[tpr>tpr_threshold][1],thresholds[tpr>tpr_threshold][1])\n",
    "#         print(text)\n",
    "    \n",
    "def print4copy(input):\n",
    "    for value in input:\n",
    "        print(value)\n",
    "\n",
    "def conf_calc(conf):\n",
    "    TP = conf[0][0]\n",
    "    TN = conf[1][1]\n",
    "    FN = conf[1][0]\n",
    "    FP = conf[0][1]\n",
    "    TPR = TP / (TP + FN)\n",
    "    SPC = TN / (FP + TN)\n",
    "    F1S = 2*TP / (2*TP + FP + FN)\n",
    "    return TPR,SPC,F1S"
   ]
  },
  {
   "cell_type": "code",
   "execution_count": null,
   "metadata": {},
   "outputs": [],
   "source": [
    "log = False\n",
    "TRIAL_NAME = \"408 apex test\" \n",
    "TRIAL_TIME = time.strftime(\"%y%m%d-%H%M\", time.localtime())\n",
    "TL_BASE = \"state_dict/210129-1712_2.dict\"\n",
    "#TL_BASE = \"state_dict/210106-1316_ap\"\n",
    "DATA_DIR = '/home/ray/TrainingData/317/ap'\n",
    "fold_num = len(os.listdir(DATA_DIR))\n",
    "args = vars(get_params())\n",
    "args['TRIAL_TIME'] = TRIAL_TIME\n",
    "args['TRIAL_NAME'] = TRIAL_NAME\n",
    "args['fold_num'] = fold_num\n",
    "args['flood_level'] = 0.0\n",
    "args['epochs'] = 100\n",
    "args['batch_size'] = 32"
   ]
  },
  {
   "cell_type": "code",
   "execution_count": null,
   "metadata": {},
   "outputs": [],
   "source": [
    "dataloaders = lib.get_dataloaders(args, 1, 5, 2, DATA_DIR)\n",
    "train_runner = train.TrainRunner(args, logger, dataloaders, 1)"
   ]
  },
  {
   "cell_type": "code",
   "execution_count": null,
   "metadata": {},
   "outputs": [],
   "source": [
    "train_runner.load_state(TL_BASE)"
   ]
  },
  {
   "cell_type": "markdown",
   "metadata": {},
   "source": [
    "此处往下是XL转PTB的5折检测"
   ]
  },
  {
   "cell_type": "code",
   "execution_count": null,
   "metadata": {},
   "outputs": [],
   "source": [
    "output = dict()\n",
    "label = dict()\n",
    "bce_output = dict()\n",
    "cm = numpy.empty([2,2])\n",
    "for fold in range(1,6):\n",
    "    dataloaders = lib.get_dataloaders(args, fold, 5, 2, DATA_DIR)\n",
    "    train_runner = train.TrainRunner(args, logger, dataloaders, fold)\n",
    "    output[fold] = train_runner.test()\n",
    "    label[fold] = train_runner.val_label\n",
    "    bce_output[fold],cm_temp = output_calc(output[fold],label[fold],alpha = 0.0)\n",
    "    cm = cm+cm_temp"
   ]
  },
  {
   "cell_type": "code",
   "execution_count": null,
   "metadata": {},
   "outputs": [],
   "source": [
    "sum_bce = sum_output = sum_label = torch.empty(0)\n",
    "#[output,label,bce] = torch.load(\"save/314_5f.save\")\n",
    "for i in range(1,len(output)+1):\n",
    "    sum_output = torch.cat([sum_output,output[i].cpu()])\n",
    "    sum_label = torch.cat([sum_label,label[i].cpu()])\n",
    "    sum_bce = torch.cat([sum_bce,bce_output[i].cpu()])"
   ]
  },
  {
   "cell_type": "code",
   "execution_count": null,
   "metadata": {},
   "outputs": [],
   "source": [
    "plt.figure(0,[9,9])\n",
    "fpr, tpr, thresholds = metrics.roc_curve(sum_label.cpu(), sum_bce.cpu(), pos_label=1)\n",
    "roc_auc= metrics.auc(fpr, tpr)\n",
    "fold_auc= roc_auc\n",
    "plt.plot(fpr,tpr,label='{} , {:4f}'.format('all',roc_auc))\n",
    "plt.legend(loc=\"lower right\")\n",
    "plt.ylabel('True Positive Rate')\n",
    "plt.xlabel('False Positive Rate')\n",
    "for tpr_threshold in [0.8,0.9,0.99,0.9956,tpr[thresholds == thresholds[thresholds>0.5][-1]]]: #first threshoulds \n",
    "    plt.plot(fpr[tpr>tpr_threshold][1],tpr_threshold,'o')\n",
    "    text = \"fold {} TPR:{},FPR:{:.4f},Thresholds:{:.4f}\".format('all',tpr_threshold,fpr[tpr>tpr_threshold][1],thresholds[tpr>tpr_threshold][1])\n",
    "    print(text)\n",
    "plt.show()"
   ]
  },
  {
   "cell_type": "markdown",
   "metadata": {},
   "source": [
    "普通N折检测,+3Plane"
   ]
  },
  {
   "cell_type": "code",
   "execution_count": 24,
   "metadata": {},
   "outputs": [],
   "source": [
    "save_name = \"421_LRCUT\"\n",
    "result = torch.load(\"save/\"+save_name+\".save\")\n",
    "trial_name = \"PTB\""
   ]
  },
  {
   "cell_type": "code",
   "execution_count": 25,
   "metadata": {},
   "outputs": [],
   "source": [
    "#read output\n",
    "output = dict()\n",
    "acc_plane = {0:[],1:[],2:[],3:[]}\n",
    "sens_plane = {0:[],1:[],2:[],3:[]}\n",
    "spec_plane = {0:[],1:[],2:[],3:[]}\n",
    "conf_plane = {0:[],1:[],2:[],3:[]}\n",
    "label = torch.empty(0)#label\n",
    "output[2] = torch.empty(0)\n",
    "output[0] = torch.empty(0)\n",
    "output[3] = torch.empty(0)\n",
    "output[1] = torch.empty(0)\n",
    "fold_label = dict()\n",
    "fold_output = dict()\n",
    "final_output = dict()\n",
    "bestB = [1,1,2]\n",
    "keys = result[0][0].copy().keys()\n",
    "for i in range(len(result)):\n",
    "    fold_label[i] = result[i][1]\n",
    "    label = torch.cat([label,result[i][1]])\n",
    "    fold_output[i] = result[i][0]\n",
    "    temp = torch.zeros(result[i][0][2].shape)\n",
    "    for j in keys:\n",
    "        temp += result[i][0][j]*bestB[j]\n",
    "    fold_output[i][3] = temp/len(keys)\n",
    "    for j in result[0][0].keys():\n",
    "        output[j] = torch.cat([output[j] ,result[i][0][j]])\n",
    "        _,conf,acc_temp = output_calc(fold_output[i][j] ,fold_label[i],0)\n",
    "        sens,spec,f1s = conf_calc(conf)\n",
    "        spec_plane[j].append(spec)\n",
    "        sens_plane[j].append(sens)\n",
    "        acc_plane[j].append(acc_temp)\n",
    "        conf_plane[j].append(conf)"
   ]
  },
  {
   "cell_type": "code",
   "execution_count": 32,
   "metadata": {},
   "outputs": [
    {
     "name": "stdout",
     "output_type": "stream",
     "text": [
      "0.9704663762881122\n",
      "0.9590811965811966\n",
      "\n",
      "\n",
      "0.968560606060606\n",
      "0.963159759121502\n",
      "\n",
      "\n",
      "0.9712092130518234\n",
      "0.9573198715006884\n",
      "\n",
      "\n",
      "0.9726973334749814\n",
      "0.9652777777777778\n",
      "\n",
      "\n",
      "0.9609848484848484\n",
      "0.9511158342189161\n",
      "\n",
      "\n",
      "0.9772626605640041\n",
      "0.9713936056294936\n"
     ]
    }
   ],
   "source": [
    "print4copy(acc_plane[2]+['\\n']+sens_plane[2]+['\\n']+spec_plane[2]+['\\n'])\n",
    "print4copy(acc_plane[3]+['\\n']+sens_plane[3]+['\\n']+spec_plane[3])"
   ]
  },
  {
   "cell_type": "code",
   "execution_count": 26,
   "metadata": {},
   "outputs": [
    {
     "name": "stdout",
     "output_type": "stream",
     "text": [
      "              precision    recall  f1-score   support\n",
      "\n",
      "          MI       0.92      0.97      0.94      5463\n",
      "           H       0.99      0.96      0.97     13310\n",
      "\n",
      "    accuracy                           0.96     18773\n",
      "   macro avg       0.95      0.97      0.96     18773\n",
      "weighted avg       0.97      0.96      0.97     18773\n",
      "\n"
     ]
    }
   ],
   "source": [
    "_,pred2 = torch.max(output[2], 1)\n",
    "report = classification_report(label,pred2,target_names=[\"MI\",\"H\"],output_dict = True)\n",
    "print(classification_report(label,pred2,target_names=[\"MI\",\"H\"],output_dict = False))"
   ]
  },
  {
   "cell_type": "code",
   "execution_count": 27,
   "metadata": {},
   "outputs": [
    {
     "data": {
      "application/vnd.jupyter.widget-view+json": {
       "model_id": "a048f296108b4f9f8d07172105649b30",
       "version_major": 2,
       "version_minor": 0
      },
      "text/plain": [
       "Canvas(toolbar=Toolbar(toolitems=[('Home', 'Reset original view', 'home', 'home'), ('Back', 'Back to previous …"
      ]
     },
     "metadata": {},
     "output_type": "display_data"
    },
    {
     "data": {
      "text/plain": [
       "(-0.05, 0.5, 0.5, 1.05)"
      ]
     },
     "execution_count": 27,
     "metadata": {},
     "output_type": "execute_result"
    }
   ],
   "source": [
    "%matplotlib widget\n",
    "fig = plt.figure(0,[5,5])\n",
    "ax1 = fig.add_subplot()\n",
    "plt.title('ROC_AUC curve')\n",
    "plt.ylabel('True Positive Rate')\n",
    "plt.xlabel('False Positive Rate')\n",
    "minorLocator = MultipleLocator(0.01)\n",
    "majorLocator = MultipleLocator(0.1)\n",
    "# Set minor tick locations.\n",
    "ax1.yaxis.set_minor_locator(minorLocator)\n",
    "ax1.xaxis.set_minor_locator(minorLocator)\n",
    "# ax1.yaxis.set_major_locator(majorLocator)\n",
    "# ax1.xaxis.set_major_locator(majorLocator)\n",
    "# Set grid to use minor tick locations. \n",
    "ax1.grid(which = 'minor',alpha=0.3)\n",
    "ax1.grid(which = 'major',alpha=0.6)\n",
    "ax1.axis([-0.05,0.5,0.5,1.05])"
   ]
  },
  {
   "cell_type": "code",
   "execution_count": 29,
   "metadata": {},
   "outputs": [
    {
     "data": {
      "text/plain": [
       "<matplotlib.collections.PolyCollection at 0x7efdf74d38b0>"
      ]
     },
     "execution_count": 29,
     "metadata": {},
     "output_type": "execute_result"
    }
   ],
   "source": [
    "#Draw area addon\n",
    "x = np.linspace(0,1,5000)\n",
    "tpr1_p = np.interp(x,fpr1,tpr1)\n",
    "tpr2_p = np.interp(x,fpr2,tpr2)\n",
    "plt.fill_between(x, tpr1_p, tpr2_p, where=tpr2_p >= tpr1_p,\n",
    "                 facecolor='green', interpolate=True)\n",
    "plt.fill_between(x, tpr1_p, tpr2_p, where=tpr2_p <= tpr1_p,\n",
    "                 facecolor='red', interpolate=True)"
   ]
  },
  {
   "cell_type": "code",
   "execution_count": 28,
   "metadata": {},
   "outputs": [
    {
     "name": "stdout",
     "output_type": "stream",
     "text": [
      "0.9647898577744634\n",
      "[[ 5276   474]\n",
      " [  187 12836]]\n",
      "roc_auc:0.9932115620237667\n"
     ]
    }
   ],
   "source": [
    "#only plane2\n",
    "bce_output,confusion_marix,acc= output_calc(output[2] ,label.cpu(),0,True)\n",
    "#bce_output= output_calc(output[2],label[1].cpu(),0)\n",
    "fpr1,tpr1 = draw_auc(label,bce_output,0,trial_name+\" M1\")"
   ]
  },
  {
   "cell_type": "code",
   "execution_count": 31,
   "metadata": {},
   "outputs": [
    {
     "name": "stdout",
     "output_type": "stream",
     "text": [
      "0\n",
      "10\n",
      "20\n",
      "30\n",
      "40\n",
      "50\n",
      "[9.0, 13.0, 31.0]\n",
      "0.9691578330581154\n"
     ]
    }
   ],
   "source": [
    "#ijk calc\n",
    "accmax = 0\n",
    "for i in range(60):\n",
    "    if not i%10:\n",
    "        print(i)\n",
    "    for j in range(60):\n",
    "        for k in range(60):\n",
    "            i = i/1\n",
    "            j = j/1\n",
    "            k = k/1\n",
    "            temp = output[0]*i+output[1]*j+output[2]*k\n",
    "            temp/=(i+j+k)\n",
    "            _,pred = torch.max(temp,1)\n",
    "            acc = torch.sum(pred == label.data).item()/len(label)\n",
    "            if accmax < acc:\n",
    "                best = [i,j,k]\n",
    "                accmax = acc\n",
    "print(best)\n",
    "print(accmax)"
   ]
  },
  {
   "cell_type": "code",
   "execution_count": 30,
   "metadata": {},
   "outputs": [
    {
     "name": "stdout",
     "output_type": "stream",
     "text": [
      "0.9689980290843232\n",
      "[[ 5222   341]\n",
      " [  241 12969]]\n",
      "roc_auc:0.9935295058499546\n"
     ]
    }
   ],
   "source": [
    "output_final = torch.zeros((output[2]).shape)\n",
    "for i,value in enumerate(bestB):\n",
    "    output_final += output[i]*value\n",
    "output_final/=sum(bestB)\n",
    "_,pred = torch.max(output_final,1)\n",
    "acc = torch.sum(pred == label.data).item()/len(label)\n",
    "bce_output,confusion_marix,acc = output_calc(output_final ,label,-0.000,True)\n",
    "fpr2,tpr2 = draw_auc(label,bce_output,0,trial_name+\" M2\")"
   ]
  },
  {
   "cell_type": "code",
   "execution_count": null,
   "metadata": {},
   "outputs": [],
   "source": []
  }
 ],
 "metadata": {
  "kernelspec": {
   "display_name": "Python 3",
   "language": "python",
   "name": "python3"
  },
  "language_info": {
   "codemirror_mode": {
    "name": "ipython",
    "version": 3
   },
   "file_extension": ".py",
   "mimetype": "text/x-python",
   "name": "python",
   "nbconvert_exporter": "python",
   "pygments_lexer": "ipython3",
   "version": "3.8.5"
  }
 },
 "nbformat": 4,
 "nbformat_minor": 4
}
