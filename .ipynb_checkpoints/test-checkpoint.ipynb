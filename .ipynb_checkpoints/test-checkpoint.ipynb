{
 "cells": [
  {
   "cell_type": "code",
   "execution_count": 1,
   "metadata": {},
   "outputs": [],
   "source": [
    "import logging\n",
    "import os\n",
    "import time\n",
    "\n",
    "import matplotlib.pyplot as plt\n",
    "import torch\n",
    "import torch.nn as nn\n",
    "import torchvision\n",
    "\n",
    "import numpy as np\n",
    "import nets\n",
    "import train\n",
    "from arg import *\n",
    "from lib import *\n",
    "from main import *\n",
    "from nni.utils import merge_parameter\n",
    "from sklearn import metrics"
   ]
  },
  {
   "cell_type": "code",
   "execution_count": 43,
   "metadata": {},
   "outputs": [],
   "source": [
    "def output_calc(output,label,alpha = 0.0,disp = False):\n",
    "    outputn = output[:,1]-output[:,0]\n",
    "    #outputn = -outputn #inverse\n",
    "    outputn = outputn/max([max(outputn),-min(outputn)])\n",
    "    outputn = outputn/2+0.5\n",
    "    pred = torch.round(outputn-alpha)\n",
    "    acc = torch.sum(pred == label.data).item()/len(label)\n",
    "    \n",
    "    confusion_marix = metrics.confusion_matrix(pred.cpu(),label.cpu(),labels = [0,1])\n",
    "    if disp:\n",
    "        print(acc)\n",
    "        print(confusion_marix)\n",
    "    #TP TN\n",
    "    #PP PN\n",
    "    return outputn,confusion_marix,acc\n",
    "\n",
    "def draw_auc(label,score,fig = 0):\n",
    "    plt.figure(fig)\n",
    "    score = -score+1\n",
    "    fpr, tpr, thresholds = metrics.roc_curve(label.cpu(), score.cpu(), pos_label=0)\n",
    "    roc_auc= metrics.auc(fpr, tpr)\n",
    "    print(\"roc_auc:{}\".format(roc_auc))\n",
    "    plt.plot(fpr,tpr,label='roc_auc:{:4f}'.format(roc_auc))\n",
    "    plt.legend(loc=\"lower right\")\n",
    "    plt.ylabel('True Positive Rate')\n",
    "    plt.xlabel('False Positive Rate')\n",
    "    for tpr_threshold in [0.8,0.9,0.99,0.9956,tpr[thresholds == thresholds[thresholds>0.5][-1]][0]]: #first threshoulds which >0.5\n",
    "        plt.plot(fpr[tpr>tpr_threshold][1],tpr_threshold,'o')\n",
    "        text = \"fold {} TPR:{},FPR:{:.4f},Thresholds:{:.4f}\".format(1,tpr_threshold,fpr[tpr>tpr_threshold][1],thresholds[tpr>tpr_threshold][1])\n",
    "        print(text)\n",
    "    \n",
    "def print4copy(input):\n",
    "    for value in input:\n",
    "        print(value)"
   ]
  },
  {
   "cell_type": "code",
   "execution_count": null,
   "metadata": {},
   "outputs": [],
   "source": [
    "log = False\n",
    "TRIAL_NAME = \"408 apex test\" \n",
    "TRIAL_TIME = time.strftime(\"%y%m%d-%H%M\", time.localtime())\n",
    "TL_BASE = \"state_dict/210129-1712_2.dict\"\n",
    "#TL_BASE = \"state_dict/210106-1316_ap\"\n",
    "DATA_DIR = '/home/ray/TrainingData/317/ap'\n",
    "fold_num = len(os.listdir(DATA_DIR))\n",
    "args = vars(get_params())\n",
    "args['TRIAL_TIME'] = TRIAL_TIME\n",
    "args['TRIAL_NAME'] = TRIAL_NAME\n",
    "args['fold_num'] = fold_num\n",
    "args['flood_level'] = 0.0\n",
    "args['epochs'] = 100\n",
    "args['batch_size'] = 32"
   ]
  },
  {
   "cell_type": "code",
   "execution_count": null,
   "metadata": {},
   "outputs": [],
   "source": [
    "dataloaders = lib.get_dataloaders(args, 1, 5, 2, DATA_DIR)\n",
    "train_runner = train.TrainRunner(args, logger, dataloaders, 1)"
   ]
  },
  {
   "cell_type": "code",
   "execution_count": null,
   "metadata": {},
   "outputs": [],
   "source": [
    "train_runner.load_state(TL_BASE)"
   ]
  },
  {
   "cell_type": "markdown",
   "metadata": {},
   "source": [
    "此处往下是XL转PTB的5折检测"
   ]
  },
  {
   "cell_type": "code",
   "execution_count": null,
   "metadata": {},
   "outputs": [],
   "source": [
    "output = dict()\n",
    "label = dict()\n",
    "bce_output = dict()\n",
    "cm = numpy.empty([2,2])\n",
    "for fold in range(1,6):\n",
    "    dataloaders = lib.get_dataloaders(args, fold, 5, 2, DATA_DIR)\n",
    "    train_runner = train.TrainRunner(args, logger, dataloaders, fold)\n",
    "    output[fold] = train_runner.test()\n",
    "    label[fold] = train_runner.val_label\n",
    "    bce_output[fold],cm_temp = output_calc(output[fold],label[fold],alpha = 0.0)\n",
    "    cm = cm+cm_temp"
   ]
  },
  {
   "cell_type": "code",
   "execution_count": null,
   "metadata": {},
   "outputs": [],
   "source": [
    "sum_bce = sum_output = sum_label = torch.empty(0)\n",
    "#[output,label,bce] = torch.load(\"save/314_5f.save\")\n",
    "for i in range(1,len(output)+1):\n",
    "    sum_output = torch.cat([sum_output,output[i].cpu()])\n",
    "    sum_label = torch.cat([sum_label,label[i].cpu()])\n",
    "    sum_bce = torch.cat([sum_bce,bce_output[i].cpu()])"
   ]
  },
  {
   "cell_type": "code",
   "execution_count": null,
   "metadata": {},
   "outputs": [],
   "source": [
    "plt.figure(0,[9,9])\n",
    "fpr, tpr, thresholds = metrics.roc_curve(sum_label.cpu(), sum_bce.cpu(), pos_label=1)\n",
    "roc_auc= metrics.auc(fpr, tpr)\n",
    "fold_auc= roc_auc\n",
    "plt.plot(fpr,tpr,label='{} , {:4f}'.format('all',roc_auc))\n",
    "plt.legend(loc=\"lower right\")\n",
    "plt.ylabel('True Positive Rate')\n",
    "plt.xlabel('False Positive Rate')\n",
    "for tpr_threshold in [0.8,0.9,0.99,0.9956,tpr[thresholds == thresholds[thresholds>0.5][-1]]]: #first threshoulds \n",
    "    plt.plot(fpr[tpr>tpr_threshold][1],tpr_threshold,'o')\n",
    "    text = \"fold {} TPR:{},FPR:{:.4f},Thresholds:{:.4f}\".format('all',tpr_threshold,fpr[tpr>tpr_threshold][1],thresholds[tpr>tpr_threshold][1])\n",
    "    print(text)\n",
    "plt.show()"
   ]
  },
  {
   "cell_type": "markdown",
   "metadata": {},
   "source": [
    "普通5折检测,+3Plane"
   ]
  },
  {
   "cell_type": "code",
   "execution_count": 3,
   "metadata": {},
   "outputs": [],
   "source": [
    "result = torch.load(\"save/319_10F_ARGCHANGE.save\")"
   ]
  },
  {
   "cell_type": "code",
   "execution_count": 4,
   "metadata": {},
   "outputs": [],
   "source": [
    "#read output\n",
    "output = dict()\n",
    "acc_plane = {0:[],1:[],2:[],3:[]}\n",
    "conf_plane = {0:[],1:[],2:[],3:[]}\n",
    "label = torch.empty(0)#label\n",
    "output[2] = torch.empty(0)\n",
    "output[0] = torch.empty(0)\n",
    "output[1] = torch.empty(0)\n",
    "fold_label = dict()\n",
    "fold_output = dict()\n",
    "for i in range(len(result)):\n",
    "    fold_label[i] = result[i][1]\n",
    "    label = torch.cat([label,result[i][1]])\n",
    "    fold_output[i] = result[i][0]\n",
    "    for j in result[0][0].keys():\n",
    "        output[j] = torch.cat([output[j] ,result[i][0][j]])\n",
    "        _,conf,acc_temp = output_calc(fold_output[i][j] ,fold_label[i],0)\n",
    "        acc_plane[j].append(acc_temp)\n",
    "        conf_plane[j].append(conf)"
   ]
  },
  {
   "cell_type": "code",
   "execution_count": 44,
   "metadata": {},
   "outputs": [
    {
     "name": "stdout",
     "output_type": "stream",
     "text": [
      "0.9258379087109727\n",
      "[[17214   857]\n",
      " [  953  5382]]\n",
      "roc_auc:0.9797099867197985\n",
      "fold 1 TPR:0.8,FPR:0.0000,Thresholds:0.5493\n",
      "fold 1 TPR:0.9,FPR:0.0463,Thresholds:0.5200\n",
      "fold 1 TPR:0.99,FPR:0.3757,Thresholds:0.4765\n",
      "fold 1 TPR:0.9956,FPR:0.5342,Thresholds:0.4668\n",
      "fold 1 TPR:0.947542246931249,FPR:0.1378,Thresholds:0.5000\n"
     ]
    },
    {
     "data": {
      "image/png": "[encoded data removed]",
      "text/plain": [
       "<Figure size 648x648 with 1 Axes>"
      ]
     },
     "metadata": {
      "needs_background": "light"
     },
     "output_type": "display_data"
    }
   ],
   "source": [
    "#only plane2\n",
    "bce_output,confusion_marix,acc= output_calc(output[2] ,label.cpu(),0,True)\n",
    "#bce_output= output_calc(output[2],label[1].cpu(),0)\n",
    "fig = plt.figure(0,[9,9])\n",
    "draw_auc(label,bce_output,0)"
   ]
  },
  {
   "cell_type": "code",
   "execution_count": null,
   "metadata": {},
   "outputs": [],
   "source": [
    "#ijk calc\n",
    "accmax = 0\n",
    "for i in range(60):\n",
    "    if not i%10:\n",
    "        print(i)\n",
    "    for j in range(60):\n",
    "        for k in range(60):\n",
    "            i = i/1\n",
    "            j = j/1\n",
    "            k = k/1\n",
    "            temp = output[0]*i+output[1]*j+output[2]*k\n",
    "            temp/=(i+j+k)\n",
    "            _,pred = torch.max(temp,1)\n",
    "            acc = torch.sum(pred == label.data).item()/len(label)\n",
    "            if accmax < acc:\n",
    "                best = [i,j,k]\n",
    "                accmax = acc\n",
    "print(best)\n",
    "print(accmax)"
   ]
  },
  {
   "cell_type": "code",
   "execution_count": 46,
   "metadata": {},
   "outputs": [],
   "source": [
    "bestB = [1,1,2]"
   ]
  },
  {
   "cell_type": "code",
   "execution_count": 47,
   "metadata": {},
   "outputs": [
    {
     "name": "stdout",
     "output_type": "stream",
     "text": [
      "0.9373104974186676\n",
      "[[17545   908]\n",
      " [  622  5331]]\n",
      "roc_auc:0.9820369400869371\n",
      "fold 1 TPR:0.8,FPR:0.0034,Thresholds:0.5708\n",
      "fold 1 TPR:0.9,FPR:0.0436,Thresholds:0.5321\n",
      "fold 1 TPR:0.99,FPR:0.3271,Thresholds:0.4807\n",
      "fold 1 TPR:0.9956,FPR:0.4693,Thresholds:0.4674\n",
      "fold 1 TPR:0.9657620961083283,FPR:0.1459,Thresholds:0.5000\n"
     ]
    },
    {
     "data": {
      "image/png": "[encoded data removed]",
      "text/plain": [
       "<Figure size 432x288 with 1 Axes>"
      ]
     },
     "metadata": {
      "needs_background": "light"
     },
     "output_type": "display_data"
    }
   ],
   "source": [
    "output_final = torch.zeros((output[2]).shape)\n",
    "for i,value in enumerate(bestB):\n",
    "    output_final += output[i]*value\n",
    "output_final/=sum(bestB)\n",
    "_,pred = torch.max(output_final,1)\n",
    "acc = torch.sum(pred == label.data).item()/len(label)\n",
    "bce_output,confusion_marix,acc = output_calc(output_final ,label,0,True)\n",
    "draw_auc(label,bce_output,0)"
   ]
  },
  {
   "cell_type": "code",
   "execution_count": 60,
   "metadata": {},
   "outputs": [
    {
     "name": "stderr",
     "output_type": "stream",
     "text": [
      "<ipython-input-60-ac0a1e171566>:3: UserWarning: Matplotlib is currently using module://ipykernel.pylab.backend_inline, which is a non-GUI backend, so cannot show the figure.\n",
      "  fig.show()\n"
     ]
    },
    {
     "data": {
      "text/plain": [
       "<Figure size 432x288 with 0 Axes>"
      ]
     },
     "metadata": {},
     "output_type": "display_data"
    }
   ],
   "source": [
    "%matplotlib inline\n",
    "fig = plt.figure(0)\n",
    "fig.show()"
   ]
  },
  {
   "cell_type": "code",
   "execution_count": null,
   "metadata": {},
   "outputs": [],
   "source": [
    "\n",
    "for i in range(len(result)):\n",
    "    temp = (fold_output[i][0]+fold_output[i][1]+fold_output[i][2])/3\n",
    "    _,conf,acc = output_calc(temp ,fold_label[i],0)\n",
    "    acc_plane[3].append(acc)\n",
    "    conf_plane[3].append(conf)"
   ]
  },
  {
   "cell_type": "code",
   "execution_count": null,
   "metadata": {},
   "outputs": [],
   "source": [
    "print4copy(acc_plane[3])"
   ]
  },
  {
   "cell_type": "code",
   "execution_count": null,
   "metadata": {},
   "outputs": [],
   "source": [
    "sum(conf_plane[3])"
   ]
  },
  {
   "cell_type": "code",
   "execution_count": null,
   "metadata": {},
   "outputs": [],
   "source": []
  }
 ],
 "metadata": {
  "kernelspec": {
   "display_name": "Python 3",
   "language": "python",
   "name": "python3"
  },
  "language_info": {
   "codemirror_mode": {
    "name": "ipython",
    "version": 3
   },
   "file_extension": ".py",
   "mimetype": "text/x-python",
   "name": "python",
   "nbconvert_exporter": "python",
   "pygments_lexer": "ipython3",
   "version": "3.8.5"
  }
 },
 "nbformat": 4,
 "nbformat_minor": 4
}
