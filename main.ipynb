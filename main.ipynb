{
 "cells": [
  {
   "cell_type": "code",
   "execution_count": 1,
   "metadata": {},
   "outputs": [],
   "source": [
    "import logging\n",
    "import os\n",
    "import time\n",
    "\n",
    "import matplotlib.pyplot as plt\n",
    "import torch\n",
    "import torch.nn as nn\n",
    "import torchvision\n",
    "\n",
    "import numpy as np\n",
    "import nets\n",
    "import train\n",
    "from arg import *\n",
    "from lib import *\n",
    "from main import *\n",
    "from nni.utils import merge_parameter\n",
    "from sklearn.metrics import confusion_matrix, f1_score,roc_curve,RocCurveDisplay,auc"
   ]
  },
  {
   "cell_type": "code",
   "execution_count": 2,
   "metadata": {},
   "outputs": [
    {
     "name": "stderr",
     "output_type": "stream",
     "text": [
      "INFO:log:{'nni': False, 'sigmoid': False, 'normalization': True, 'weight_decay': 0.01, 'degrees': 15, 'xtras': 0.05, 'batch_size': 32, 'lr': 0.01, 'base_lr': 2e-05, 'max_lr': 0.002, 'flood_level': 0.12, 'momentum': 0.9, 'epochs_num': 9, 'step_size': 3, 'workers': 4, 'TRIAL_TIME': '210116-1920', 'TRIAL_NAME': '315_15f', 'fold_num': 5}\n",
      "INFO:log:DATA_DIR:/mnt/ramdisk/315/ap\n",
      "INFO:log:BASE ON:\n",
      "INFO:log:TRAIN NAME:\"315_15f\"\n"
     ]
    }
   ],
   "source": [
    "#initialization\n",
    "log = True\n",
    "TRIAL_NAME = \"315_15f\" \n",
    "#TL_BASE = \"state_dict/210106-1316_ap\"\n",
    "TL_BASE = \"\"\n",
    "TRIAL_TIME = time.strftime(\"%y%m%d-%H%M\", time.localtime())\n",
    "#TL_BASE = \"temp.dict\"\n",
    "#DATA_DIR = os.environ['imageDataPath']+'/408.4/ap'\n",
    "DATA_DIR = '/mnt/ramdisk/315/ap'\n",
    "fold_num = len(os.listdir(DATA_DIR))\n",
    "torch.backends.cudnn.benchmark = True\n",
    "if log:\n",
    "    logger = set_logger(TRIAL_TIME, TRIAL_NAME)\n",
    "\n",
    "args = vars(get_params())\n",
    "\n",
    "args['TRIAL_TIME'] = TRIAL_TIME\n",
    "args['TRIAL_NAME'] = TRIAL_NAME\n",
    "args['fold_num'] = fold_num\n",
    "\n",
    "#args['flood_level'] = 0.12#ptb\n",
    "#args['epochs_num'] = 30 #ptb\n",
    "\n",
    "logger.info(args)\n",
    "torch.cuda.empty_cache()\n",
    "\n",
    "# log information\n",
    "logger.info(\"DATA_DIR:\"+DATA_DIR)\n",
    "logger.info(\"BASE ON:\"+TL_BASE)\n",
    "logger.info(\"TRAIN NAME:\\\"\"+TRIAL_NAME+\"\\\"\")"
   ]
  },
  {
   "cell_type": "code",
   "execution_count": 3,
   "metadata": {},
   "outputs": [],
   "source": [
    "def output_calc(output,label,alpha = 0.0):\n",
    "    outputn = output[:,1]-output[:,0]\n",
    "    #outputn = -outputn #inverse\n",
    "    outputn = outputn/max([max(outputn),-min(outputn)])\n",
    "    outputn = outputn/2+0.5\n",
    "    pred = torch.round(outputn-alpha)\n",
    "    acc = torch.sum(pred == label.data).item()/len(label)\n",
    "    print(acc)\n",
    "    con = confusion_matrix(pred.cpu(),label.cpu(),labels = [0,1])\n",
    "    print(con)\n",
    "    #TP TN\n",
    "    #PP PN\n",
    "    return outputn,con"
   ]
  },
  {
   "cell_type": "code",
   "execution_count": 4,
   "metadata": {
    "scrolled": true
   },
   "outputs": [
    {
     "name": "stderr",
     "output_type": "stream",
     "text": [
      "INFO:log:using device:: cuda:0\n",
      "INFO:log:trainset sizes:\n",
      "INFO:log:0_MI :7973\n",
      "INFO:log:1_H  :8624\n",
      "INFO:log:weights:[0.9607760310173035, 1.0392239093780518]\n",
      "fold:1/5 epoch: -/9 | train loss: ------ acc: ------ N/A% |    | ETA:  --:--:--/home/rayfang/anaconda3/lib/python3.8/site-packages/torch/optim/lr_scheduler.py:129: UserWarning: Detected call of `lr_scheduler.step()` before `optimizer.step()`. In PyTorch 1.1.0 and later, you should call them in the opposite order: `optimizer.step()` before `lr_scheduler.step()`.  Failure to do this will result in PyTorch skipping the first value of the learning rate schedule. See more details at https://pytorch.org/docs/stable/optim.html#how-to-adjust-learning-rate\n",
      "  warnings.warn(\"Detected call of `lr_scheduler.step()` before `optimizer.step()`. \"\n",
      "fold:1/5 epoch: 1/9 | train loss:   0.41 acc:    0.8 100% |####| Time:  0:01:09\n",
      "fold:1/5 epoch: 1/9 | val   loss:  0.165 acc:  0.931 100% |####| Time:  0:00:05\n",
      "INFO:log: 1/9 | 0.00068 | 0.4099 | 0.8004 | 0.7864 | 0.1657 | 0.9374 | 0.9425 || 1m15s\n"
     ]
    },
    {
     "name": "stdout",
     "output_type": "stream",
     "text": [
      "confusion martix:\n",
      "[[1862  100]\n",
      " [ 127 1536]]\n",
      "[01/16/2021, 07:21:31 PM] INFO (nni) Intermediate result: 0.9425461908377627  (Index 0)\n"
     ]
    },
    {
     "name": "stderr",
     "output_type": "stream",
     "text": [
      "fold:1/5 epoch: 2/9 | train loss:  0.203 acc:  0.925 100% |####| Time:  0:01:03\n",
      "fold:1/5 epoch: 2/9 | val   loss:  0.152 acc:  0.949 100% |####| Time:  0:00:05\n",
      "INFO:log: 2/9 | 0.00134 | 0.2033 | 0.9254 | 0.9211 | 0.1525 | 0.9553 | 0.9588 || 1m9s\n"
     ]
    },
    {
     "name": "stdout",
     "output_type": "stream",
     "text": [
      "confusion martix:\n",
      "[[1887   60]\n",
      " [ 102 1576]]\n",
      "[01/16/2021, 07:22:42 PM] INFO (nni) Intermediate result: 0.9588414634146342  (Index 1)\n"
     ]
    },
    {
     "name": "stderr",
     "output_type": "stream",
     "text": [
      "fold:1/5 epoch: 3/9 | train loss:  0.168 acc:   0.95 100% |####| Time:  0:01:03\n",
      "fold:1/5 epoch: 3/9 | val   loss:   0.23 acc:  0.875 100% |####| Time:  0:00:05\n",
      "INFO:log: 3/9 | 0.00200 | 0.1677 | 0.9507 | 0.9480 | 0.2310 | 0.8803 | 0.8978 || 1m9s\n"
     ]
    },
    {
     "name": "stdout",
     "output_type": "stream",
     "text": [
      "confusion martix:\n",
      "[[1907  352]\n",
      " [  82 1284]]\n",
      "[01/16/2021, 07:23:53 PM] INFO (nni) Intermediate result: 0.897834274952919  (Index 2)\n"
     ]
    },
    {
     "name": "stderr",
     "output_type": "stream",
     "text": [
      "fold:1/5 epoch: 4/9 | train loss:  0.153 acc:  0.966 100% |####| Time:  0:01:04\n",
      "fold:1/5 epoch: 4/9 | val   loss:  0.212 acc:  0.894 100% |####| Time:  0:00:05\n",
      "INFO:log: 4/9 | 0.00134 | 0.1535 | 0.9666 | 0.9648 | 0.2133 | 0.9001 | 0.9138 || 1m9s\n"
     ]
    },
    {
     "name": "stdout",
     "output_type": "stream",
     "text": [
      "confusion martix:\n",
      "[[1919  292]\n",
      " [  70 1344]]\n",
      "[01/16/2021, 07:25:04 PM] INFO (nni) Intermediate result: 0.9138095238095238  (Index 3)\n"
     ]
    },
    {
     "name": "stderr",
     "output_type": "stream",
     "text": [
      "fold:1/5 epoch: 5/9 | train loss:  0.146 acc:  0.975 100% |####| Time:  0:01:04\n",
      "fold:1/5 epoch: 5/9 | val   loss:  0.222 acc:  0.884 100% |####| Time:  0:00:05\n",
      "INFO:log: 5/9 | 0.00068 | 0.1461 | 0.9756 | 0.9744 | 0.2237 | 0.8899 | 0.9058 || 1m9s\n"
     ]
    },
    {
     "name": "stdout",
     "output_type": "stream",
     "text": [
      "confusion martix:\n",
      "[[1918  328]\n",
      " [  71 1308]]\n",
      "[01/16/2021, 07:26:16 PM] INFO (nni) Intermediate result: 0.9057851239669421  (Index 4)\n"
     ]
    },
    {
     "name": "stderr",
     "output_type": "stream",
     "text": [
      "fold:1/5 epoch: 6/9 | train loss:   0.14 acc:  0.988 100% |####| Time:  0:01:04\n",
      "fold:1/5 epoch: 6/9 | val   loss:  0.201 acc:  0.936 100% |####| Time:  0:00:05\n",
      "INFO:log: 6/9 | 0.00002 | 0.1404 | 0.9886 | 0.9881 | 0.2027 | 0.9418 | 0.9463 || 1m9s\n"
     ]
    },
    {
     "name": "stdout",
     "output_type": "stream",
     "text": [
      "confusion martix:\n",
      "[[1858   80]\n",
      " [ 131 1556]]\n",
      "[01/16/2021, 07:27:27 PM] INFO (nni) Intermediate result: 0.9462694168576522  (Index 5)\n"
     ]
    },
    {
     "name": "stderr",
     "output_type": "stream",
     "text": [
      "fold:1/5 epoch: 7/9 | train loss:  0.137 acc:  0.993 100% |####| Time:  0:01:03\n",
      "fold:1/5 epoch: 7/9 | val   loss:  0.216 acc:  0.896 100% |####| Time:  0:00:05\n",
      "INFO:log: 7/9 | 0.00035 | 0.1373 | 0.9935 | 0.9932 | 0.2176 | 0.9018 | 0.9147 || 1m9s\n"
     ]
    },
    {
     "name": "stdout",
     "output_type": "stream",
     "text": [
      "confusion martix:\n",
      "[[1909  276]\n",
      " [  80 1360]]\n",
      "[01/16/2021, 07:28:38 PM] INFO (nni) Intermediate result: 0.9147101102060373  (Index 6)\n"
     ]
    },
    {
     "name": "stderr",
     "output_type": "stream",
     "text": [
      "fold:1/5 epoch: 8/9 | train loss:  0.139 acc:   0.99 100% |####| Time:  0:01:03\n",
      "fold:1/5 epoch: 8/9 | val   loss:  0.229 acc:   0.89 100% |####| Time:  0:00:05\n",
      "INFO:log: 8/9 | 0.00068 | 0.1396 | 0.9910 | 0.9906 | 0.2309 | 0.8960 | 0.9097 || 1m9s\n"
     ]
    },
    {
     "name": "stdout",
     "output_type": "stream",
     "text": [
      "confusion martix:\n",
      "[[1900  288]\n",
      " [  89 1348]]\n",
      "[01/16/2021, 07:29:50 PM] INFO (nni) Intermediate result: 0.9097438352884846  (Index 7)\n"
     ]
    },
    {
     "name": "stderr",
     "output_type": "stream",
     "text": [
      "fold:1/5 epoch: 9/9 | train loss:  0.139 acc:  0.991 100% |####| Time:  0:01:03\n",
      "fold:1/5 epoch: 9/9 | val   loss:  0.217 acc:  0.912 100% |####| Time:  0:00:04\n",
      "INFO:log: 9/9 | 0.00101 | 0.1392 | 0.9916 | 0.9912 | 0.2185 | 0.9178 | 0.9270 || 1m9s\n"
     ]
    },
    {
     "name": "stdout",
     "output_type": "stream",
     "text": [
      "confusion martix:\n",
      "[[1891  200]\n",
      " [  98 1436]]\n",
      "[01/16/2021, 07:31:00 PM] INFO (nni) Intermediate result: 0.9269607843137255  (Index 8)\n",
      "[01/16/2021, 07:31:02 PM] INFO (nni) Final result: 0.9269607843137255\n"
     ]
    },
    {
     "name": "stderr",
     "output_type": "stream",
     "text": [
      "INFO:log:train loss:0.13916735867423422\n",
      "INFO:log:train acc :0.9915647406157739\n",
      "INFO:log:train f1s :0.9911760998361276\n",
      "INFO:log:val   loss:0.2184665078972948\n",
      "INFO:log:val   acc :0.9177931034482759\n",
      "INFO:log:val   f1s :0.9269607843137255\n",
      "INFO:log:confusion martix:\n",
      "INFO:log:[[1891  200]\n",
      " [  98 1436]]\n"
     ]
    },
    {
     "name": "stdout",
     "output_type": "stream",
     "text": [
      "----------END----------\n",
      "0.9177931034482759\n"
     ]
    },
    {
     "name": "stderr",
     "output_type": "stream",
     "text": [
      "INFO:log:tensor(0.9178)\n",
      "INFO:log:using device:: cuda:0\n",
      "INFO:log:trainset sizes:\n",
      "INFO:log:0_MI :7973\n",
      "INFO:log:1_H  :8624\n",
      "INFO:log:weights:[0.9607760310173035, 1.0392239093780518]\n",
      "fold:1/5 epoch: 1/9 | train loss:  0.409 acc:  0.795 100% |####| Time:  0:01:03\n",
      "fold:1/5 epoch: 1/9 | val   loss:  0.303 acc:   0.89 100% |####| Time:  0:00:04\n",
      "INFO:log: 1/9 | 0.00068 | 0.4093 | 0.7955 | 0.7799 | 0.3051 | 0.8954 | 0.8977 || 1m9s\n"
     ]
    },
    {
     "name": "stdout",
     "output_type": "stream",
     "text": [
      "confusion martix:\n",
      "[[1662   52]\n",
      " [ 327 1584]]\n",
      "[01/16/2021, 07:32:20 PM] INFO (nni) Intermediate result: 0.897650553605185  (Index 9)\n"
     ]
    },
    {
     "name": "stderr",
     "output_type": "stream",
     "text": [
      "fold:1/5 epoch: 2/9 | train loss:  0.198 acc:   0.93 100% |####| Time:  0:01:03\n",
      "fold:1/5 epoch: 2/9 | val   loss:  0.304 acc:  0.893 100% |####| Time:  0:00:04\n",
      "INFO:log: 2/9 | 0.00134 | 0.1984 | 0.9310 | 0.9270 | 0.3062 | 0.8990 | 0.8989 || 1m9s\n"
     ]
    },
    {
     "name": "stdout",
     "output_type": "stream",
     "text": [
      "confusion martix:\n",
      "[[1627    4]\n",
      " [ 362 1632]]\n",
      "[01/16/2021, 07:33:30 PM] INFO (nni) Intermediate result: 0.8988950276243094  (Index 10)\n"
     ]
    },
    {
     "name": "stderr",
     "output_type": "stream",
     "text": [
      "fold:1/5 epoch: 3/9 | train loss:   0.17 acc:  0.951 100% |####| Time:  0:01:03\n",
      "fold:1/5 epoch: 3/9 | val   loss:  0.346 acc:  0.882 100% |####| Time:  0:00:04\n",
      "INFO:log: 3/9 | 0.00200 | 0.1705 | 0.9514 | 0.9484 | 0.3478 | 0.8880 | 0.8863 || 1m9s\n"
     ]
    },
    {
     "name": "stdout",
     "output_type": "stream",
     "text": [
      "confusion martix:\n",
      "[[1583    0]\n",
      " [ 406 1636]]\n",
      "[01/16/2021, 07:34:41 PM] INFO (nni) Intermediate result: 0.8863381858902576  (Index 11)\n"
     ]
    },
    {
     "name": "stderr",
     "output_type": "stream",
     "text": [
      "fold:1/5 epoch: 4/9 | train loss:  0.153 acc:  0.971 100% |####| Time:  0:01:03\n",
      "fold:1/5 epoch: 4/9 | val   loss:  0.243 acc:  0.902 100% |####| Time:  0:00:04\n",
      "INFO:log: 4/9 | 0.00134 | 0.1536 | 0.9719 | 0.9703 | 0.2443 | 0.9081 | 0.9148 || 1m9s\n"
     ]
    },
    {
     "name": "stdout",
     "output_type": "stream",
     "text": [
      "confusion martix:\n",
      "[[1788  132]\n",
      " [ 201 1504]]\n",
      "[01/16/2021, 07:35:51 PM] INFO (nni) Intermediate result: 0.9148119723714505  (Index 12)\n"
     ]
    },
    {
     "name": "stderr",
     "output_type": "stream",
     "text": [
      "fold:1/5 epoch: 5/9 | train loss:  0.147 acc:  0.981 100% |####| Time:  0:01:03\n",
      "fold:1/5 epoch: 5/9 | val   loss:  0.265 acc:  0.895 100% |####| Time:  0:00:04\n",
      "INFO:log: 5/9 | 0.00068 | 0.1474 | 0.9815 | 0.9806 | 0.2668 | 0.9004 | 0.9050 || 1m9s\n"
     ]
    },
    {
     "name": "stdout",
     "output_type": "stream",
     "text": [
      "confusion martix:\n",
      "[[1720   92]\n",
      " [ 269 1544]]\n",
      "[01/16/2021, 07:37:02 PM] INFO (nni) Intermediate result: 0.9050249934227835  (Index 13)\n"
     ]
    },
    {
     "name": "stderr",
     "output_type": "stream",
     "text": [
      "fold:1/5 epoch: 6/9 | train loss:  0.139 acc:   0.99 100% |####| Time:  0:01:03\n",
      "fold:1/5 epoch: 6/9 | val   loss:  0.257 acc:  0.885 100% |####| Time:  0:00:05\n",
      "INFO:log: 6/9 | 0.00002 | 0.1388 | 0.9905 | 0.9900 | 0.2586 | 0.8905 | 0.8961 || 1m9s\n"
     ]
    },
    {
     "name": "stdout",
     "output_type": "stream",
     "text": [
      "confusion martix:\n",
      "[[1712  120]\n",
      " [ 277 1516]]\n",
      "[01/16/2021, 07:38:13 PM] INFO (nni) Intermediate result: 0.8961004972520283  (Index 14)\n"
     ]
    },
    {
     "name": "stderr",
     "output_type": "stream",
     "text": [
      "fold:1/5 epoch: 7/9 | train loss:  0.138 acc:  0.993 100% |####| Time:  0:01:03\n",
      "fold:1/5 epoch: 7/9 | val   loss:  0.247 acc:  0.898 100% |####| Time:  0:00:04\n",
      "INFO:log: 7/9 | 0.00035 | 0.1377 | 0.9940 | 0.9937 | 0.2489 | 0.9040 | 0.9074 || 1m9s\n"
     ]
    },
    {
     "name": "stdout",
     "output_type": "stream",
     "text": [
      "confusion martix:\n",
      "[[1705   64]\n",
      " [ 284 1572]]\n",
      "[01/16/2021, 07:39:24 PM] INFO (nni) Intermediate result: 0.9073975518893028  (Index 15)\n"
     ]
    },
    {
     "name": "stderr",
     "output_type": "stream",
     "text": [
      "fold:1/5 epoch: 8/9 | train loss:  0.139 acc:  0.992 100% |####| Time:  0:01:03\n",
      "fold:1/5 epoch: 8/9 | val   loss:  0.248 acc:  0.893 100% |####| Time:  0:00:04\n",
      "INFO:log: 8/9 | 0.00068 | 0.1391 | 0.9928 | 0.9924 | 0.2499 | 0.8990 | 0.9032 || 1m9s\n"
     ]
    },
    {
     "name": "stdout",
     "output_type": "stream",
     "text": [
      "confusion martix:\n",
      "[[1707   84]\n",
      " [ 282 1552]]\n",
      "[01/16/2021, 07:40:35 PM] INFO (nni) Intermediate result: 0.9031746031746031  (Index 16)\n"
     ]
    },
    {
     "name": "stderr",
     "output_type": "stream",
     "text": [
      "fold:1/5 epoch: 9/9 | train loss:  0.139 acc:  0.992 100% |####| Time:  0:01:03\n",
      "fold:1/5 epoch: 9/9 | val   loss:  0.267 acc:  0.901 100% |####| Time:  0:00:04\n",
      "INFO:log: 9/9 | 0.00101 | 0.1391 | 0.9926 | 0.9922 | 0.2688 | 0.9065 | 0.9137 || 1m9s\n"
     ]
    },
    {
     "name": "stdout",
     "output_type": "stream",
     "text": [
      "confusion martix:\n",
      "[[1794  144]\n",
      " [ 195 1492]]\n",
      "[01/16/2021, 07:41:46 PM] INFO (nni) Intermediate result: 0.9136745607333844  (Index 17)\n",
      "[01/16/2021, 07:41:48 PM] INFO (nni) Final result: 0.9136745607333844\n"
     ]
    },
    {
     "name": "stderr",
     "output_type": "stream",
     "text": [
      "INFO:log:train loss:0.13912618777141691\n",
      "INFO:log:train acc :0.9925890221124299\n",
      "INFO:log:train f1s :0.9922372988324393\n",
      "INFO:log:val   loss:0.2687542084496597\n",
      "INFO:log:val   acc :0.9064827586206896\n",
      "INFO:log:val   f1s :0.9136745607333844\n",
      "INFO:log:confusion martix:\n",
      "INFO:log:[[1794  144]\n",
      " [ 195 1492]]\n"
     ]
    },
    {
     "name": "stdout",
     "output_type": "stream",
     "text": [
      "----------END----------\n",
      "0.9064827586206896\n"
     ]
    },
    {
     "name": "stderr",
     "output_type": "stream",
     "text": [
      "INFO:log:tensor(0.9065)\n",
      "INFO:log:using device:: cuda:0\n",
      "INFO:log:trainset sizes:\n",
      "INFO:log:0_MI :7973\n",
      "INFO:log:1_H  :8624\n",
      "INFO:log:weights:[0.9607760310173035, 1.0392239093780518]\n",
      "fold:1/5 epoch: 1/9 | train loss:  0.386 acc:  0.811 100% |####| Time:  0:01:03\n",
      "fold:1/5 epoch: 1/9 | val   loss:  0.226 acc:  0.917 100% |####| Time:  0:00:05\n",
      "INFO:log: 1/9 | 0.00068 | 0.3864 | 0.8112 | 0.7974 | 0.2275 | 0.9228 | 0.9244 || 1m9s\n"
     ]
    },
    {
     "name": "stdout",
     "output_type": "stream",
     "text": [
      "confusion martix:\n",
      "[[1713    4]\n",
      " [ 276 1632]]\n",
      "[01/16/2021, 07:43:05 PM] INFO (nni) Intermediate result: 0.9244468429573666  (Index 18)\n"
     ]
    },
    {
     "name": "stderr",
     "output_type": "stream",
     "text": [
      "fold:1/5 epoch: 2/9 | train loss:  0.188 acc:  0.936 100% |####| Time:  0:01:03\n",
      "fold:1/5 epoch: 2/9 | val   loss:  0.166 acc:  0.932 100% |####| Time:  0:00:05\n",
      "INFO:log: 2/9 | 0.00134 | 0.1880 | 0.9369 | 0.9333 | 0.1668 | 0.9377 | 0.9399 || 1m9s\n"
     ]
    },
    {
     "name": "stdout",
     "output_type": "stream",
     "text": [
      "confusion martix:\n",
      "[[1767    4]\n",
      " [ 222 1632]]\n",
      "[01/16/2021, 07:44:16 PM] INFO (nni) Intermediate result: 0.9398936170212765  (Index 19)\n"
     ]
    },
    {
     "name": "stderr",
     "output_type": "stream",
     "text": [
      "fold:1/5 epoch: 3/9 | train loss:  0.165 acc:  0.954 100% |####| Time:  0:01:03\n",
      "fold:1/5 epoch: 3/9 | val   loss:  0.172 acc:  0.927 100% |####| Time:  0:00:05\n",
      "INFO:log: 3/9 | 0.00200 | 0.1654 | 0.9546 | 0.9519 | 0.1730 | 0.9324 | 0.9345 || 1m9s\n"
     ]
    },
    {
     "name": "stdout",
     "output_type": "stream",
     "text": [
      "confusion martix:\n",
      "[[1748    4]\n",
      " [ 241 1632]]\n",
      "[01/16/2021, 07:45:28 PM] INFO (nni) Intermediate result: 0.934509489441326  (Index 20)\n"
     ]
    },
    {
     "name": "stderr",
     "output_type": "stream",
     "text": [
      "fold:1/5 epoch: 4/9 | train loss:  0.153 acc:  0.969 100% |####| Time:  0:01:03\n",
      "fold:1/5 epoch: 4/9 | val   loss:   0.18 acc:  0.957 100% |####| Time:  0:00:05\n",
      "INFO:log: 4/9 | 0.00134 | 0.1534 | 0.9698 | 0.9681 | 0.1812 | 0.9630 | 0.9656 || 1m9s\n"
     ]
    },
    {
     "name": "stdout",
     "output_type": "stream",
     "text": [
      "confusion martix:\n",
      "[[1879   24]\n",
      " [ 110 1612]]\n",
      "[01/16/2021, 07:46:39 PM] INFO (nni) Intermediate result: 0.9655704008221992  (Index 21)\n"
     ]
    },
    {
     "name": "stderr",
     "output_type": "stream",
     "text": [
      "fold:1/5 epoch: 5/9 | train loss:  0.146 acc:  0.983 100% |####| Time:  0:01:03\n",
      "fold:1/5 epoch: 5/9 | val   loss:  0.175 acc:  0.934 100% |####| Time:  0:00:05\n",
      "INFO:log: 5/9 | 0.00068 | 0.1458 | 0.9834 | 0.9826 | 0.1762 | 0.9399 | 0.9421 || 1m9s\n"
     ]
    },
    {
     "name": "stdout",
     "output_type": "stream",
     "text": [
      "confusion martix:\n",
      "[[1775    4]\n",
      " [ 214 1632]]\n",
      "[01/16/2021, 07:47:50 PM] INFO (nni) Intermediate result: 0.9421443736730362  (Index 22)\n"
     ]
    },
    {
     "name": "stderr",
     "output_type": "stream",
     "text": [
      "fold:1/5 epoch: 6/9 | train loss:  0.139 acc:   0.99 100% |####| Time:  0:01:03\n",
      "fold:1/5 epoch: 6/9 | val   loss:  0.162 acc:  0.949 100% |####| Time:  0:00:05\n",
      "INFO:log: 6/9 | 0.00002 | 0.1389 | 0.9903 | 0.9898 | 0.1634 | 0.9548 | 0.9571 || 1m9s\n"
     ]
    },
    {
     "name": "stdout",
     "output_type": "stream",
     "text": [
      "confusion martix:\n",
      "[[1829    4]\n",
      " [ 160 1632]]\n",
      "[01/16/2021, 07:49:02 PM] INFO (nni) Intermediate result: 0.9570905285190999  (Index 23)\n"
     ]
    },
    {
     "name": "stderr",
     "output_type": "stream",
     "text": [
      "fold:1/5 epoch: 7/9 | train loss:  0.137 acc:  0.994 100% |####| Time:  0:01:03\n",
      "fold:1/5 epoch: 7/9 | val   loss:  0.177 acc:  0.932 100% |####| Time:  0:00:05\n",
      "INFO:log: 7/9 | 0.00035 | 0.1374 | 0.9949 | 0.9947 | 0.1782 | 0.9379 | 0.9402 || 1m9s\n"
     ]
    },
    {
     "name": "stdout",
     "output_type": "stream",
     "text": [
      "confusion martix:\n",
      "[[1768    4]\n",
      " [ 221 1632]]\n",
      "[01/16/2021, 07:50:13 PM] INFO (nni) Intermediate result: 0.9401754852432863  (Index 24)\n"
     ]
    },
    {
     "name": "stderr",
     "output_type": "stream",
     "text": [
      "fold:1/5 epoch: 8/9 | train loss:  0.138 acc:  0.993 100% |####| Time:  0:01:03\n",
      "fold:1/5 epoch: 8/9 | val   loss:  0.172 acc:  0.947 100% |####| Time:  0:00:05\n",
      "INFO:log: 8/9 | 0.00068 | 0.1377 | 0.9932 | 0.9929 | 0.1727 | 0.9531 | 0.9555 || 1m9s\n"
     ]
    },
    {
     "name": "stdout",
     "output_type": "stream",
     "text": [
      "confusion martix:\n",
      "[[1823    4]\n",
      " [ 166 1632]]\n",
      "[01/16/2021, 07:51:24 PM] INFO (nni) Intermediate result: 0.9554507337526206  (Index 25)\n"
     ]
    },
    {
     "name": "stderr",
     "output_type": "stream",
     "text": [
      "fold:1/5 epoch: 9/9 | train loss:  0.138 acc:  0.992 100% |####| Time:  0:01:03\n",
      "fold:1/5 epoch: 9/9 | val   loss:  0.187 acc:  0.947 100% |####| Time:  0:00:05\n",
      "INFO:log: 9/9 | 0.00101 | 0.1382 | 0.9930 | 0.9926 | 0.1879 | 0.9534 | 0.9557 || 1m9s\n"
     ]
    },
    {
     "name": "stdout",
     "output_type": "stream",
     "text": [
      "confusion martix:\n",
      "[[1824    4]\n",
      " [ 165 1632]]\n",
      "[01/16/2021, 07:52:36 PM] INFO (nni) Intermediate result: 0.9557243908828923  (Index 26)\n",
      "[01/16/2021, 07:52:38 PM] INFO (nni) Final result: 0.9557243908828923\n"
     ]
    },
    {
     "name": "stderr",
     "output_type": "stream",
     "text": [
      "INFO:log:train loss:0.1381903928211599\n",
      "INFO:log:train acc :0.9929505332288968\n",
      "INFO:log:train f1s :0.9926159671820763\n",
      "INFO:log:val   loss:0.18793649038364146\n",
      "INFO:log:val   acc :0.9533793103448276\n",
      "INFO:log:val   f1s :0.9557243908828923\n",
      "INFO:log:confusion martix:\n",
      "INFO:log:[[1824    4]\n",
      " [ 165 1632]]\n"
     ]
    },
    {
     "name": "stdout",
     "output_type": "stream",
     "text": [
      "----------END----------\n",
      "0.9533793103448276\n"
     ]
    },
    {
     "name": "stderr",
     "output_type": "stream",
     "text": [
      "INFO:log:tensor(0.9534)\n",
      "INFO:log:fold 1 acc:0.9307585954666138\n",
      "INFO:log:confusion_matrix:[[1854  116]\n",
      " [ 135 1520]]\n",
      "INFO:log:using device:: cuda:0\n",
      "INFO:log:trainset sizes:\n",
      "INFO:log:0_MI :7701\n",
      "INFO:log:1_H  :8468\n",
      "INFO:log:weights:[0.9525635242462158, 1.0474364757537842]\n",
      "fold:2/5 epoch: 1/9 | train loss:  0.821 acc:  0.562   0% |    | ETA:   0:03:36"
     ]
    },
    {
     "ename": "RuntimeError",
     "evalue": "CUDA out of memory. Tried to allocate 392.00 MiB (GPU 0; 9.78 GiB total capacity; 7.84 GiB already allocated; 71.31 MiB free; 8.15 GiB reserved in total by PyTorch)",
     "output_type": "error",
     "traceback": [
      "\u001b[0;31m---------------------------------------------------------------------------\u001b[0m",
      "\u001b[0;31mRuntimeError\u001b[0m                              Traceback (most recent call last)",
      "\u001b[0;32m<ipython-input-4-53dec788432a>\u001b[0m in \u001b[0;36m<module>\u001b[0;34m\u001b[0m\n\u001b[1;32m      7\u001b[0m         \u001b[0mdataloaders\u001b[0m \u001b[0;34m=\u001b[0m \u001b[0mget_dataloaders\u001b[0m\u001b[0;34m(\u001b[0m\u001b[0margs\u001b[0m\u001b[0;34m,\u001b[0m \u001b[0mfold\u001b[0m\u001b[0;34m,\u001b[0m \u001b[0mfold_num\u001b[0m\u001b[0;34m,\u001b[0m \u001b[0mplane\u001b[0m\u001b[0;34m,\u001b[0m \u001b[0mDATA_DIR\u001b[0m\u001b[0;34m)\u001b[0m\u001b[0;34m\u001b[0m\u001b[0;34m\u001b[0m\u001b[0m\n\u001b[1;32m      8\u001b[0m         \u001b[0mtr\u001b[0m \u001b[0;34m=\u001b[0m \u001b[0mtrain\u001b[0m\u001b[0;34m.\u001b[0m\u001b[0mTrainRunner\u001b[0m\u001b[0;34m(\u001b[0m\u001b[0margs\u001b[0m\u001b[0;34m,\u001b[0m \u001b[0mlogger\u001b[0m\u001b[0;34m,\u001b[0m \u001b[0mdataloaders\u001b[0m\u001b[0;34m,\u001b[0m \u001b[0mfold\u001b[0m\u001b[0;34m)\u001b[0m\u001b[0;34m\u001b[0m\u001b[0;34m\u001b[0m\u001b[0m\n\u001b[0;32m----> 9\u001b[0;31m         \u001b[0mrun\u001b[0m\u001b[0;34m(\u001b[0m\u001b[0margs\u001b[0m\u001b[0;34m,\u001b[0m \u001b[0mtr\u001b[0m\u001b[0;34m)\u001b[0m\u001b[0;34m\u001b[0m\u001b[0;34m\u001b[0m\u001b[0m\n\u001b[0m\u001b[1;32m     10\u001b[0m         \u001b[0moutput\u001b[0m\u001b[0;34m[\u001b[0m\u001b[0mplane\u001b[0m\u001b[0;34m]\u001b[0m\u001b[0;34m,\u001b[0m \u001b[0mlabel\u001b[0m \u001b[0;34m=\u001b[0m \u001b[0mtr\u001b[0m\u001b[0;34m.\u001b[0m\u001b[0mtest\u001b[0m\u001b[0;34m(\u001b[0m\u001b[0;34m)\u001b[0m\u001b[0;34m\u001b[0m\u001b[0;34m\u001b[0m\u001b[0m\n\u001b[1;32m     11\u001b[0m         \u001b[0;32mdel\u001b[0m \u001b[0mtr\u001b[0m\u001b[0;34m\u001b[0m\u001b[0;34m\u001b[0m\u001b[0m\n",
      "\u001b[0;32m~/Documents/code/pyTorch/nni/main.py\u001b[0m in \u001b[0;36mrun\u001b[0;34m(args, train_runner, save, sub_name)\u001b[0m\n\u001b[1;32m     49\u001b[0m     \u001b[0;32mtry\u001b[0m\u001b[0;34m:\u001b[0m\u001b[0;34m\u001b[0m\u001b[0;34m\u001b[0m\u001b[0m\n\u001b[1;32m     50\u001b[0m         \u001b[0;32mfor\u001b[0m \u001b[0m_\u001b[0m \u001b[0;32min\u001b[0m \u001b[0mrange\u001b[0m\u001b[0;34m(\u001b[0m\u001b[0margs\u001b[0m\u001b[0;34m[\u001b[0m\u001b[0;34m\"epochs_num\"\u001b[0m\u001b[0;34m]\u001b[0m\u001b[0;34m)\u001b[0m\u001b[0;34m:\u001b[0m\u001b[0;34m\u001b[0m\u001b[0;34m\u001b[0m\u001b[0m\n\u001b[0;32m---> 51\u001b[0;31m             \u001b[0;32mif\u001b[0m \u001b[0mtrain_runner\u001b[0m\u001b[0;34m.\u001b[0m\u001b[0mtrain\u001b[0m\u001b[0;34m(\u001b[0m\u001b[0;34m)\u001b[0m\u001b[0;34m:\u001b[0m  \u001b[0;31m# train will return status\u001b[0m\u001b[0;34m\u001b[0m\u001b[0;34m\u001b[0m\u001b[0m\n\u001b[0m\u001b[1;32m     52\u001b[0m                 \u001b[0;32mbreak\u001b[0m\u001b[0;34m\u001b[0m\u001b[0;34m\u001b[0m\u001b[0m\n\u001b[1;32m     53\u001b[0m             \u001b[0mnni\u001b[0m\u001b[0;34m.\u001b[0m\u001b[0mreport_intermediate_result\u001b[0m\u001b[0;34m(\u001b[0m\u001b[0mtrain_runner\u001b[0m\u001b[0;34m.\u001b[0m\u001b[0mresult\u001b[0m\u001b[0;34m[\u001b[0m\u001b[0;34m'val'\u001b[0m\u001b[0;34m]\u001b[0m\u001b[0;34m[\u001b[0m\u001b[0;34m'f1s'\u001b[0m\u001b[0;34m]\u001b[0m\u001b[0;34m)\u001b[0m\u001b[0;34m\u001b[0m\u001b[0;34m\u001b[0m\u001b[0m\n",
      "\u001b[0;32m~/Documents/code/pyTorch/nni/train.py\u001b[0m in \u001b[0;36mtrain\u001b[0;34m(self)\u001b[0m\n\u001b[1;32m    163\u001b[0m                         \u001b[0;32mif\u001b[0m \u001b[0mphase\u001b[0m \u001b[0;34m==\u001b[0m \u001b[0;34m\"train\"\u001b[0m\u001b[0;34m:\u001b[0m\u001b[0;34m\u001b[0m\u001b[0;34m\u001b[0m\u001b[0m\n\u001b[1;32m    164\u001b[0m                             \u001b[0mloss\u001b[0m \u001b[0;34m=\u001b[0m \u001b[0;34m(\u001b[0m\u001b[0mloss\u001b[0m \u001b[0;34m-\u001b[0m \u001b[0mflood_level\u001b[0m\u001b[0;34m)\u001b[0m\u001b[0;34m.\u001b[0m\u001b[0mabs\u001b[0m\u001b[0;34m(\u001b[0m\u001b[0;34m)\u001b[0m \u001b[0;34m+\u001b[0m \u001b[0mflood_level\u001b[0m\u001b[0;34m\u001b[0m\u001b[0;34m\u001b[0m\u001b[0m\n\u001b[0;32m--> 165\u001b[0;31m                             \u001b[0mself\u001b[0m\u001b[0;34m.\u001b[0m\u001b[0mscaler\u001b[0m\u001b[0;34m.\u001b[0m\u001b[0mscale\u001b[0m\u001b[0;34m(\u001b[0m\u001b[0mloss\u001b[0m\u001b[0;34m)\u001b[0m\u001b[0;34m.\u001b[0m\u001b[0mbackward\u001b[0m\u001b[0;34m(\u001b[0m\u001b[0;34m)\u001b[0m\u001b[0;34m\u001b[0m\u001b[0;34m\u001b[0m\u001b[0m\n\u001b[0m\u001b[1;32m    166\u001b[0m                             \u001b[0mself\u001b[0m\u001b[0;34m.\u001b[0m\u001b[0mscaler\u001b[0m\u001b[0;34m.\u001b[0m\u001b[0mstep\u001b[0m\u001b[0;34m(\u001b[0m\u001b[0mself\u001b[0m\u001b[0;34m.\u001b[0m\u001b[0moptimizer\u001b[0m\u001b[0;34m)\u001b[0m\u001b[0;34m\u001b[0m\u001b[0;34m\u001b[0m\u001b[0m\n\u001b[1;32m    167\u001b[0m                             \u001b[0mself\u001b[0m\u001b[0;34m.\u001b[0m\u001b[0mscaler\u001b[0m\u001b[0;34m.\u001b[0m\u001b[0mupdate\u001b[0m\u001b[0;34m(\u001b[0m\u001b[0;34m)\u001b[0m\u001b[0;34m\u001b[0m\u001b[0;34m\u001b[0m\u001b[0m\n",
      "\u001b[0;32m~/anaconda3/lib/python3.8/site-packages/torch/tensor.py\u001b[0m in \u001b[0;36mbackward\u001b[0;34m(self, gradient, retain_graph, create_graph, inputs)\u001b[0m\n\u001b[1;32m    231\u001b[0m                 \u001b[0mcreate_graph\u001b[0m\u001b[0;34m=\u001b[0m\u001b[0mcreate_graph\u001b[0m\u001b[0;34m,\u001b[0m\u001b[0;34m\u001b[0m\u001b[0;34m\u001b[0m\u001b[0m\n\u001b[1;32m    232\u001b[0m                 inputs=inputs)\n\u001b[0;32m--> 233\u001b[0;31m         \u001b[0mtorch\u001b[0m\u001b[0;34m.\u001b[0m\u001b[0mautograd\u001b[0m\u001b[0;34m.\u001b[0m\u001b[0mbackward\u001b[0m\u001b[0;34m(\u001b[0m\u001b[0mself\u001b[0m\u001b[0;34m,\u001b[0m \u001b[0mgradient\u001b[0m\u001b[0;34m,\u001b[0m \u001b[0mretain_graph\u001b[0m\u001b[0;34m,\u001b[0m \u001b[0mcreate_graph\u001b[0m\u001b[0;34m,\u001b[0m \u001b[0minputs\u001b[0m\u001b[0;34m=\u001b[0m\u001b[0minputs\u001b[0m\u001b[0;34m)\u001b[0m\u001b[0;34m\u001b[0m\u001b[0;34m\u001b[0m\u001b[0m\n\u001b[0m\u001b[1;32m    234\u001b[0m \u001b[0;34m\u001b[0m\u001b[0m\n\u001b[1;32m    235\u001b[0m     \u001b[0;32mdef\u001b[0m \u001b[0mregister_hook\u001b[0m\u001b[0;34m(\u001b[0m\u001b[0mself\u001b[0m\u001b[0;34m,\u001b[0m \u001b[0mhook\u001b[0m\u001b[0;34m)\u001b[0m\u001b[0;34m:\u001b[0m\u001b[0;34m\u001b[0m\u001b[0;34m\u001b[0m\u001b[0m\n",
      "\u001b[0;32m~/anaconda3/lib/python3.8/site-packages/torch/autograd/__init__.py\u001b[0m in \u001b[0;36mbackward\u001b[0;34m(tensors, grad_tensors, retain_graph, create_graph, grad_variables, inputs)\u001b[0m\n\u001b[1;32m    143\u001b[0m         \u001b[0mretain_graph\u001b[0m \u001b[0;34m=\u001b[0m \u001b[0mcreate_graph\u001b[0m\u001b[0;34m\u001b[0m\u001b[0;34m\u001b[0m\u001b[0m\n\u001b[1;32m    144\u001b[0m \u001b[0;34m\u001b[0m\u001b[0m\n\u001b[0;32m--> 145\u001b[0;31m     Variable._execution_engine.run_backward(\n\u001b[0m\u001b[1;32m    146\u001b[0m         \u001b[0mtensors\u001b[0m\u001b[0;34m,\u001b[0m \u001b[0mgrad_tensors_\u001b[0m\u001b[0;34m,\u001b[0m \u001b[0mretain_graph\u001b[0m\u001b[0;34m,\u001b[0m \u001b[0mcreate_graph\u001b[0m\u001b[0;34m,\u001b[0m \u001b[0minputs\u001b[0m\u001b[0;34m,\u001b[0m\u001b[0;34m\u001b[0m\u001b[0;34m\u001b[0m\u001b[0m\n\u001b[1;32m    147\u001b[0m         allow_unreachable=True, accumulate_grad=True)  # allow_unreachable flag\n",
      "\u001b[0;31mRuntimeError\u001b[0m: CUDA out of memory. Tried to allocate 392.00 MiB (GPU 0; 9.78 GiB total capacity; 7.84 GiB already allocated; 71.31 MiB free; 8.15 GiB reserved in total by PyTorch)"
     ]
    }
   ],
   "source": [
    "#15\n",
    "result = []\n",
    "output = dict()\n",
    "for fold in range(1, 6):\n",
    "    for plane in [0, 1, 2]:\n",
    "        torch.cuda.empty_cache()\n",
    "        dataloaders = get_dataloaders(args, fold, fold_num, plane, DATA_DIR)\n",
    "        tr = train.TrainRunner(args, logger, dataloaders, fold)\n",
    "        run(args, tr)\n",
    "        output[plane], label = tr.test()\n",
    "        del tr\n",
    "    calc_output = (output[0] + output[1] + output[2]) / 3\n",
    "    _, pred = torch.max(calc_output, 1)\n",
    "    logger.info(\"fold {} acc:{}\".format(fold, sum(pred == label) / len(label)))\n",
    "    logger.info(\"confusion_matrix:{}\".format(confusion_matrix(pred, label)))\n",
    "    result.append([output, label, calc_output])\n",
    "torch.save(result, \"result.allsave\")"
   ]
  },
  {
   "cell_type": "code",
   "execution_count": 6,
   "metadata": {},
   "outputs": [
    {
     "name": "stdout",
     "output_type": "stream",
     "text": [
      "0.9307586206896552\n",
      "[[1854  116]\n",
      " [ 135 1520]]\n",
      "fold 0 TPR:0.8,FPR:0.0049,Thresholds:0.4019\n",
      "fold 0 TPR:0.9,FPR:0.0147,Thresholds:0.4476\n",
      "fold 0 TPR:0.99,FPR:0.5892,Thresholds:0.6618\n",
      "fold 0 TPR:0.9956,FPR:0.7237,Thresholds:0.6792\n"
     ]
    },
    {
     "ename": "IndexError",
     "evalue": "list index out of range",
     "output_type": "error",
     "traceback": [
      "\u001b[0;31m---------------------------------------------------------------------------\u001b[0m",
      "\u001b[0;31mIndexError\u001b[0m                                Traceback (most recent call last)",
      "\u001b[0;32m<ipython-input-6-3d28736e8a27>\u001b[0m in \u001b[0;36m<module>\u001b[0;34m\u001b[0m\n\u001b[1;32m      3\u001b[0m \u001b[0mplt\u001b[0m\u001b[0;34m.\u001b[0m\u001b[0maxis\u001b[0m\u001b[0;34m(\u001b[0m\u001b[0;34m[\u001b[0m\u001b[0;36m0\u001b[0m\u001b[0;34m,\u001b[0m\u001b[0;36m0.2\u001b[0m\u001b[0;34m,\u001b[0m\u001b[0;36m0.8\u001b[0m\u001b[0;34m,\u001b[0m\u001b[0;36m1\u001b[0m\u001b[0;34m]\u001b[0m\u001b[0;34m)\u001b[0m\u001b[0;34m\u001b[0m\u001b[0;34m\u001b[0m\u001b[0m\n\u001b[1;32m      4\u001b[0m \u001b[0;32mfor\u001b[0m \u001b[0mi\u001b[0m \u001b[0;32min\u001b[0m \u001b[0mrange\u001b[0m\u001b[0;34m(\u001b[0m\u001b[0;36m5\u001b[0m\u001b[0;34m)\u001b[0m\u001b[0;34m:\u001b[0m\u001b[0;34m\u001b[0m\u001b[0;34m\u001b[0m\u001b[0m\n\u001b[0;32m----> 5\u001b[0;31m     \u001b[0mbce\u001b[0m\u001b[0;34m,\u001b[0m\u001b[0mcon\u001b[0m \u001b[0;34m=\u001b[0m \u001b[0moutput_calc\u001b[0m\u001b[0;34m(\u001b[0m\u001b[0mresult\u001b[0m\u001b[0;34m[\u001b[0m\u001b[0mi\u001b[0m\u001b[0;34m]\u001b[0m\u001b[0;34m[\u001b[0m\u001b[0;36m2\u001b[0m\u001b[0;34m]\u001b[0m\u001b[0;34m,\u001b[0m\u001b[0mresult\u001b[0m\u001b[0;34m[\u001b[0m\u001b[0mi\u001b[0m\u001b[0;34m]\u001b[0m\u001b[0;34m[\u001b[0m\u001b[0;36m1\u001b[0m\u001b[0;34m]\u001b[0m\u001b[0;34m,\u001b[0m\u001b[0;36m0\u001b[0m\u001b[0;34m)\u001b[0m\u001b[0;34m\u001b[0m\u001b[0;34m\u001b[0m\u001b[0m\n\u001b[0m\u001b[1;32m      6\u001b[0m     \u001b[0msum_con\u001b[0m\u001b[0;34m.\u001b[0m\u001b[0mappend\u001b[0m\u001b[0;34m(\u001b[0m\u001b[0mcon\u001b[0m\u001b[0;34m)\u001b[0m\u001b[0;34m\u001b[0m\u001b[0;34m\u001b[0m\u001b[0m\n\u001b[1;32m      7\u001b[0m     \u001b[0mfpr\u001b[0m\u001b[0;34m,\u001b[0m \u001b[0mtpr\u001b[0m\u001b[0;34m,\u001b[0m \u001b[0mthresholds\u001b[0m \u001b[0;34m=\u001b[0m \u001b[0mroc_curve\u001b[0m\u001b[0;34m(\u001b[0m\u001b[0mresult\u001b[0m\u001b[0;34m[\u001b[0m\u001b[0mi\u001b[0m\u001b[0;34m]\u001b[0m\u001b[0;34m[\u001b[0m\u001b[0;36m1\u001b[0m\u001b[0;34m]\u001b[0m\u001b[0;34m.\u001b[0m\u001b[0mcpu\u001b[0m\u001b[0;34m(\u001b[0m\u001b[0;34m)\u001b[0m\u001b[0;34m,\u001b[0m \u001b[0;34m-\u001b[0m\u001b[0mbce\u001b[0m\u001b[0;34m.\u001b[0m\u001b[0mcpu\u001b[0m\u001b[0;34m(\u001b[0m\u001b[0;34m)\u001b[0m\u001b[0;34m,\u001b[0m \u001b[0mpos_label\u001b[0m\u001b[0;34m=\u001b[0m\u001b[0;36m0\u001b[0m\u001b[0;34m)\u001b[0m\u001b[0;34m\u001b[0m\u001b[0;34m\u001b[0m\u001b[0m\n",
      "\u001b[0;31mIndexError\u001b[0m: list index out of range"
     ]
    },
    {
     "data": {
      "image/png": "[encoded data removed]",
      "text/plain": [
       "<Figure size 648x648 with 1 Axes>"
      ]
     },
     "metadata": {
      "needs_background": "light"
     },
     "output_type": "display_data"
    }
   ],
   "source": [
    "sum_con = []\n",
    "plt.figure(0,[9,9])\n",
    "plt.axis([0,0.2,0.8,1])\n",
    "for i in range(5):\n",
    "    bce,con = output_calc(result[i][2],result[i][1],0)\n",
    "    sum_con.append(con)\n",
    "    fpr, tpr, thresholds = roc_curve(result[i][1].cpu(), -bce.cpu(), pos_label=0)\n",
    "    roc_auc= auc(fpr, tpr)\n",
    "    fold_auc= roc_auc\n",
    "    plt.plot(fpr,tpr,label='{} , {:4f}'.format(i,roc_auc))\n",
    "    plt.legend(loc=\"lower right\")\n",
    "    for tpr_threshold in [0.8,0.9,0.99,0.9956]:\n",
    "        plt.plot(fpr[tpr>tpr_threshold][1],tpr_threshold,'o')\n",
    "        text = \"fold {} TPR:{},FPR:{:.4f},Thresholds:{:.4f}\".format(i,tpr_threshold,fpr[tpr>tpr_threshold][1],-thresholds[tpr>tpr_threshold][1])\n",
    "        print(text)"
   ]
  },
  {
   "cell_type": "code",
   "execution_count": null,
   "metadata": {},
   "outputs": [],
   "source": [
    "np.sum(sum_con,0)"
   ]
  },
  {
   "cell_type": "code",
   "execution_count": null,
   "metadata": {},
   "outputs": [],
   "source": [
    "result[i][1]"
   ]
  },
  {
   "cell_type": "code",
   "execution_count": null,
   "metadata": {},
   "outputs": [],
   "source": [
    "torch.cuda.empty_cache()\n",
    "dataloaders = get_dataloaders(args, 1, fold_num, 1,DATA_DIR)\n",
    "#dataloaders = get_dataloaders_all_shuffle(args,fold_num ,DATA_DIR)\n",
    "inputs, classes = next(iter(dataloaders['train']))\n",
    "out = torchvision.utils.make_grid(inputs)\n",
    "out = out.numpy().transpose((1, 2, 0))\n",
    "plt.imshow(out)\n",
    "del inputs,classes,out,dataloaders"
   ]
  },
  {
   "cell_type": "code",
   "execution_count": null,
   "metadata": {},
   "outputs": [],
   "source": [
    "output = dict()\n",
    "label = dict()\n",
    "bce_output = dict()\n",
    "fold_auc = dict()\n",
    "confusion = dict()"
   ]
  },
  {
   "cell_type": "code",
   "execution_count": null,
   "metadata": {},
   "outputs": [],
   "source": [
    "dataloaders = get_dataloaders(args,1,fold_num ,DATA_DIR)"
   ]
  },
  {
   "cell_type": "code",
   "execution_count": null,
   "metadata": {
    "scrolled": true
   },
   "outputs": [],
   "source": [
    "for fold in range(5,fold_num+1):\n",
    "    dataloaders = get_dataloaders(args,fold,fold_num ,DATA_DIR)\n",
    "    torch.cuda.empty_cache()\n",
    "    tr = train.TrainRunner(args, logger,dataloaders, fold)\n",
    "    if TL_BASE != \"\":\n",
    "        tr.load_state(TL_BASE)\n",
    "    run(args,tr)\n",
    "    output[fold],label[fold] = tr.test()\n",
    "    bce_output[fold] = output_calc(output[fold],label[fold],0.0)\n",
    "    confusion[fold] = tr.confusion[-1]"
   ]
  },
  {
   "cell_type": "code",
   "execution_count": null,
   "metadata": {},
   "outputs": [],
   "source": [
    "#planeXfold\n",
    "result = []\n",
    "output = dict()\n",
    "for fold in range(1, 6):\n",
    "    for plane in [0, 1, 2]:\n",
    "        torch.cuda.empty_cache()\n",
    "        dataloaders = get_dataloaders(args, fold, fold_num, plane, DATA_DIR)\n",
    "        tr = train.TrainRunner(args, logger, dataloaders, fold)\n",
    "        run(args, tr)\n",
    "        output[plane], label = tr.test()\n",
    "        del tr\n",
    "    calc_output = (output[0] + output[1] + output[2]) / 3\n",
    "    _, pred = torch.max(calc_output, 1)\n",
    "    logger.info(\"fold {} acc:{}\".format(fold, sum(pred == label) / len(label)))\n",
    "    logger.info(\"confusion_matrix:{}\".format(confusion_matrix(pred, label)))\n",
    "    result.append([output, label, calc_output])\n",
    "torch.save(result, \"result.allsave\")"
   ]
  },
  {
   "cell_type": "code",
   "execution_count": null,
   "metadata": {},
   "outputs": [],
   "source": [
    "confusion[1]+confusion[2]+confusion[3]+confusion[4]+confusion[5]"
   ]
  },
  {
   "cell_type": "code",
   "execution_count": null,
   "metadata": {},
   "outputs": [],
   "source": [
    "output_calc(output[fold],label[fold],alpha = 0)"
   ]
  },
  {
   "cell_type": "code",
   "execution_count": null,
   "metadata": {},
   "outputs": [],
   "source": [
    "for fold in range(1,fold_num+1):\n",
    "    output[fold].cpu()\n",
    "    label[fold].cpu()\n",
    "    fpr, tpr, thresholds = roc_curve(label[fold].cpu(), bce_output[fold].cpu(), pos_label=0)\n",
    "    roc_auc= auc(fpr, tpr)\n",
    "    fold_auc[fold]= roc_auc\n",
    "    plt.plot(fpr,tpr,label='{} , {:4f}'.format(fold,roc_auc))\n",
    "    plt.legend(loc=\"lower right\")\n",
    "plt.show() "
   ]
  }
 ],
 "metadata": {
  "kernelspec": {
   "display_name": "Python 3",
   "language": "python",
   "name": "python3"
  },
  "language_info": {
   "codemirror_mode": {
    "name": "ipython",
    "version": 3
   },
   "file_extension": ".py",
   "mimetype": "text/x-python",
   "name": "python",
   "nbconvert_exporter": "python",
   "pygments_lexer": "ipython3",
   "version": "3.8.5"
  }
 },
 "nbformat": 4,
 "nbformat_minor": 4
}
